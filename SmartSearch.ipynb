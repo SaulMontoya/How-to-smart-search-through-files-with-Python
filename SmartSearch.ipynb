{
 "cells": [
  {
   "cell_type": "markdown",
   "metadata": {},
   "source": [
    "We import the os package and set the path to directory we want to work."
   ]
  },
  {
   "cell_type": "code",
   "execution_count": 11,
   "metadata": {
    "collapsed": false
   },
   "outputs": [
    {
     "data": {
      "text/plain": [
       "['.ipynb_checkpoints',\n",
       " 'C1Modflow',\n",
       " 'C2Quimica',\n",
       " 'C3Manantiales',\n",
       " 'C4Hidrogeologia']"
      ]
     },
     "execution_count": 11,
     "metadata": {},
     "output_type": "execute_result"
    }
   ],
   "source": [
    "import os\n",
    "\n",
    "directorio = '/Users/saulmontoya/MEGAsync/GitHub/5_smart_search_trough_files/'\n",
    "listacarpeta = [ name for name in os.listdir(directorio) if os.path.isdir(os.path.join(directorio, name)) ]\n",
    "listacarpeta"
   ]
  },
  {
   "cell_type": "markdown",
   "metadata": {},
   "source": [
    "There is a need for a filter otherwise our smart search would crash while opening the .ipynb_checkpoints directory"
   ]
  },
  {
   "cell_type": "code",
   "execution_count": 12,
   "metadata": {
    "collapsed": false
   },
   "outputs": [
    {
     "data": {
      "text/plain": [
       "['C1Modflow', 'C2Quimica', 'C3Manantiales', 'C4Hidrogeologia']"
      ]
     },
     "execution_count": 12,
     "metadata": {},
     "output_type": "execute_result"
    }
   ],
   "source": [
    "listafiltrada = listacarpeta[1:]\n",
    "listafiltrada"
   ]
  },
  {
   "cell_type": "markdown",
   "metadata": {},
   "source": [
    "We define the function 'encontrar' that walks through the files from a given directory. This function return the complete path of the file if the file is found."
   ]
  },
  {
   "cell_type": "code",
   "execution_count": 7,
   "metadata": {
    "collapsed": true
   },
   "outputs": [],
   "source": [
    "def encontrar(name, path):\n",
    "    for root, dirs, files in os.walk(path):\n",
    "        if name in files:\n",
    "            return os.path.join(root, name)\n",
    "        else:\n",
    "            return False"
   ]
  },
  {
   "cell_type": "markdown",
   "metadata": {},
   "source": [
    "Our function just opens all the directories, look for the file \"listaalumnos\". Once the file is found, it opens it and append only the emails to a new list 'listaemails'"
   ]
  },
  {
   "cell_type": "code",
   "execution_count": 18,
   "metadata": {
    "collapsed": false
   },
   "outputs": [
    {
     "name": "stdout",
     "output_type": "stream",
     "text": [
      " saulmontoya@gidahatari.com\n",
      "admin@gidahatari.com\n",
      " saulmontoya@hotmail.com\n",
      "admin@hotmail.com\n",
      " saulmontoya@lycos.com\n",
      "admin@lycos.com\n",
      " saulmontoya@gidahatari.com\n",
      "admin@gidahatari.com\n",
      " saulmontoya@hotmail.com\n",
      "admin@hotmail.com\n",
      " saulmontoya@lycos.com\n",
      "admin@lycos.com\n",
      " saulmontoya@gidahatari.com\n",
      "admin@gidahatari.com\n",
      " saulmontoya@hotmail.com\n",
      "admin@hotmail.com\n",
      " saulmontoya@lycos.com\n",
      "admin@lycos.com\n",
      " saulmontoya@gidahatari.com\n",
      "admin@gidahatari.com\n",
      " saulmontoya@hotmail.com\n",
      "admin@hotmail.com\n",
      " saulmontoya@lycos.com\n",
      "admin@lycos.com\n"
     ]
    }
   ],
   "source": [
    "listaemails = []\n",
    "for carpeta in range(len(listafiltrada)):\n",
    "    if encontrar('listaalumnos','/Users/saulmontoya/MEGAsync/GitHub/5_smart_search_trough_files/'+listafiltrada[carpeta]) != 0:\n",
    "        ruta = encontrar('listaalumnos','/Users/saulmontoya/MEGAsync/GitHub/5_smart_search_trough_files/'+listafiltrada[carpeta])\n",
    "        texto = open(ruta).read().splitlines()\n",
    "        listaparticipantes=texto[3:]\n",
    "        for participante in range(len(listaparticipantes)):\n",
    "            datospersona = listaparticipantes[participante].split(',')\n",
    "            print datospersona[1]\n",
    "            listaemails.append(datospersona[1])"
   ]
  },
  {
   "cell_type": "markdown",
   "metadata": {},
   "source": [
    "Since there are some unwanted spaces, we run this command to get rid of them"
   ]
  },
  {
   "cell_type": "code",
   "execution_count": 19,
   "metadata": {
    "collapsed": false
   },
   "outputs": [
    {
     "data": {
      "text/plain": [
       "['saulmontoya@gidahatari.com',\n",
       " 'admin@gidahatari.com',\n",
       " 'saulmontoya@hotmail.com',\n",
       " 'admin@hotmail.com',\n",
       " 'saulmontoya@lycos.com',\n",
       " 'admin@lycos.com',\n",
       " 'saulmontoya@gidahatari.com',\n",
       " 'admin@gidahatari.com',\n",
       " 'saulmontoya@hotmail.com',\n",
       " 'admin@hotmail.com',\n",
       " 'saulmontoya@lycos.com',\n",
       " 'admin@lycos.com',\n",
       " 'saulmontoya@gidahatari.com',\n",
       " 'admin@gidahatari.com',\n",
       " 'saulmontoya@hotmail.com',\n",
       " 'admin@hotmail.com',\n",
       " 'saulmontoya@lycos.com',\n",
       " 'admin@lycos.com',\n",
       " 'saulmontoya@gidahatari.com',\n",
       " 'admin@gidahatari.com',\n",
       " 'saulmontoya@hotmail.com',\n",
       " 'admin@hotmail.com',\n",
       " 'saulmontoya@lycos.com',\n",
       " 'admin@lycos.com']"
      ]
     },
     "execution_count": 19,
     "metadata": {},
     "output_type": "execute_result"
    }
   ],
   "source": [
    "listaemails = [email.replace(' ', '') for email in listaemails]\n",
    "listaemails"
   ]
  },
  {
   "cell_type": "markdown",
   "metadata": {},
   "source": [
    "Finally we create a file to store the selected emails."
   ]
  },
  {
   "cell_type": "code",
   "execution_count": 20,
   "metadata": {
    "collapsed": true
   },
   "outputs": [],
   "source": [
    "text_file = open(\"Output.txt\", \"w\")\n",
    "for item in listaemails:\n",
    "    text_file.write(item + '\\n')\n",
    "text_file.close()"
   ]
  },
  {
   "cell_type": "code",
   "execution_count": null,
   "metadata": {
    "collapsed": true
   },
   "outputs": [],
   "source": []
  }
 ],
 "metadata": {
  "kernelspec": {
   "display_name": "Python 2",
   "language": "python",
   "name": "python2"
  },
  "language_info": {
   "codemirror_mode": {
    "name": "ipython",
    "version": 2
   },
   "file_extension": ".py",
   "mimetype": "text/x-python",
   "name": "python",
   "nbconvert_exporter": "python",
   "pygments_lexer": "ipython2",
   "version": "2.7.9"
  }
 },
 "nbformat": 4,
 "nbformat_minor": 0
}
